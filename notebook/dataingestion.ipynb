{
 "cells": [
  {
   "cell_type": "code",
   "execution_count": 1,
   "metadata": {},
   "outputs": [],
   "source": [
    "import os"
   ]
  },
  {
   "cell_type": "code",
   "execution_count": 2,
   "metadata": {},
   "outputs": [
    {
     "name": "stdout",
     "output_type": "stream",
     "text": [
      "Linux v-sukruthav1 5.15.0-1073-azure #82~20.04.1-Ubuntu SMP Tue Sep 3 12:27:43 UTC 2024 x86_64 x86_64 x86_64 GNU/Linux\n"
     ]
    }
   ],
   "source": [
    "!uname -a "
   ]
  },
  {
   "cell_type": "code",
   "execution_count": 6,
   "metadata": {},
   "outputs": [
    {
     "name": "stdout",
     "output_type": "stream",
     "text": [
      "Reading package lists... Done\n",
      "Building dependency tree       \n",
      "Reading state information... Done\n",
      "tesseract-ocr is already the newest version (4.1.1-2build2).\n",
      "0 upgraded, 0 newly installed, 0 to remove and 112 not upgraded.\n"
     ]
    }
   ],
   "source": [
    "!sudo apt install tesseract-ocr -y\n"
   ]
  },
  {
   "cell_type": "code",
   "execution_count": 7,
   "metadata": {},
   "outputs": [
    {
     "name": "stdout",
     "output_type": "stream",
     "text": [
      "Reading package lists... Done\n",
      "Building dependency tree       \n",
      "Reading state information... Done\n",
      "libtesseract-dev is already the newest version (4.1.1-2build2).\n",
      "0 upgraded, 0 newly installed, 0 to remove and 112 not upgraded.\n"
     ]
    }
   ],
   "source": [
    "!sudo apt install libtesseract-dev -y\n"
   ]
  },
  {
   "cell_type": "code",
   "execution_count": 8,
   "metadata": {},
   "outputs": [
    {
     "name": "stdout",
     "output_type": "stream",
     "text": [
      "Reading package lists... Done\n",
      "Building dependency tree       \n",
      "Reading state information... Done\n",
      "poppler-utils is already the newest version (0.86.1-0ubuntu1.4).\n",
      "0 upgraded, 0 newly installed, 0 to remove and 112 not upgraded.\n"
     ]
    }
   ],
   "source": [
    "!sudo apt-get install poppler-utils -y"
   ]
  },
  {
   "cell_type": "code",
   "execution_count": 9,
   "metadata": {},
   "outputs": [
    {
     "name": "stdout",
     "output_type": "stream",
     "text": [
      "Requirement already satisfied: langchain in /anaconda/envs/azureml_py38/lib/python3.10/site-packages (0.3.13)\n",
      "Requirement already satisfied: unstructured[all-docs] in /anaconda/envs/azureml_py38/lib/python3.10/site-packages (0.16.11)\n",
      "Requirement already satisfied: pydantic in /anaconda/envs/azureml_py38/lib/python3.10/site-packages (2.8.2)\n",
      "Requirement already satisfied: lxml in /anaconda/envs/azureml_py38/lib/python3.10/site-packages (5.3.0)\n",
      "Requirement already satisfied: openai in /anaconda/envs/azureml_py38/lib/python3.10/site-packages (1.58.1)\n",
      "Requirement already satisfied: chromadb in /anaconda/envs/azureml_py38/lib/python3.10/site-packages (0.5.23)\n",
      "Requirement already satisfied: tiktoken in /anaconda/envs/azureml_py38/lib/python3.10/site-packages (0.8.0)\n",
      "Requirement already satisfied: opencv-python in /anaconda/envs/azureml_py38/lib/python3.10/site-packages (4.10.0.84)\n",
      "Requirement already satisfied: numpy<2,>=1.22.4 in /anaconda/envs/azureml_py38/lib/python3.10/site-packages (from langchain) (1.23.5)\n",
      "Requirement already satisfied: SQLAlchemy<3,>=1.4 in /anaconda/envs/azureml_py38/lib/python3.10/site-packages (from langchain) (2.0.36)\n",
      "Requirement already satisfied: langsmith<0.3,>=0.1.17 in /anaconda/envs/azureml_py38/lib/python3.10/site-packages (from langchain) (0.2.4)\n",
      "Requirement already satisfied: requests<3,>=2 in /anaconda/envs/azureml_py38/lib/python3.10/site-packages (from langchain) (2.32.3)\n",
      "Requirement already satisfied: langchain-text-splitters<0.4.0,>=0.3.3 in /anaconda/envs/azureml_py38/lib/python3.10/site-packages (from langchain) (0.3.4)\n",
      "Requirement already satisfied: PyYAML>=5.3 in /anaconda/envs/azureml_py38/lib/python3.10/site-packages (from langchain) (6.0.1)\n",
      "Requirement already satisfied: langchain-core<0.4.0,>=0.3.26 in /anaconda/envs/azureml_py38/lib/python3.10/site-packages (from langchain) (0.3.28)\n",
      "Requirement already satisfied: async-timeout<5.0.0,>=4.0.0 in /anaconda/envs/azureml_py38/lib/python3.10/site-packages (from langchain) (4.0.3)\n",
      "Requirement already satisfied: aiohttp<4.0.0,>=3.8.3 in /anaconda/envs/azureml_py38/lib/python3.10/site-packages (from langchain) (3.10.1)\n",
      "Requirement already satisfied: tenacity!=8.4.0,<10,>=8.1.0 in /anaconda/envs/azureml_py38/lib/python3.10/site-packages (from langchain) (9.0.0)\n",
      "Requirement already satisfied: html5lib in /anaconda/envs/azureml_py38/lib/python3.10/site-packages (from unstructured[all-docs]) (1.1)\n",
      "Requirement already satisfied: python-iso639 in /anaconda/envs/azureml_py38/lib/python3.10/site-packages (from unstructured[all-docs]) (2024.10.22)\n",
      "Requirement already satisfied: psutil in /anaconda/envs/azureml_py38/lib/python3.10/site-packages (from unstructured[all-docs]) (5.9.3)\n",
      "Requirement already satisfied: backoff in /anaconda/envs/azureml_py38/lib/python3.10/site-packages (from unstructured[all-docs]) (2.2.1)\n",
      "Requirement already satisfied: python-magic in /anaconda/envs/azureml_py38/lib/python3.10/site-packages (from unstructured[all-docs]) (0.4.27)\n",
      "Requirement already satisfied: langdetect in /anaconda/envs/azureml_py38/lib/python3.10/site-packages (from unstructured[all-docs]) (1.0.9)\n",
      "Requirement already satisfied: rapidfuzz in /anaconda/envs/azureml_py38/lib/python3.10/site-packages (from unstructured[all-docs]) (3.11.0)\n",
      "Requirement already satisfied: nltk in /anaconda/envs/azureml_py38/lib/python3.10/site-packages (from unstructured[all-docs]) (3.9.1)\n",
      "Requirement already satisfied: typing-extensions in /anaconda/envs/azureml_py38/lib/python3.10/site-packages (from unstructured[all-docs]) (4.12.2)\n",
      "Requirement already satisfied: beautifulsoup4 in /anaconda/envs/azureml_py38/lib/python3.10/site-packages (from unstructured[all-docs]) (4.12.3)\n",
      "Requirement already satisfied: chardet in /anaconda/envs/azureml_py38/lib/python3.10/site-packages (from unstructured[all-docs]) (5.2.0)\n",
      "Requirement already satisfied: unstructured-client in /anaconda/envs/azureml_py38/lib/python3.10/site-packages (from unstructured[all-docs]) (0.25.9)\n",
      "Requirement already satisfied: filetype in /anaconda/envs/azureml_py38/lib/python3.10/site-packages (from unstructured[all-docs]) (1.2.0)\n",
      "Requirement already satisfied: python-oxmsg in /anaconda/envs/azureml_py38/lib/python3.10/site-packages (from unstructured[all-docs]) (0.0.1)\n",
      "Requirement already satisfied: tqdm in /anaconda/envs/azureml_py38/lib/python3.10/site-packages (from unstructured[all-docs]) (4.66.4)\n",
      "Requirement already satisfied: emoji in /anaconda/envs/azureml_py38/lib/python3.10/site-packages (from unstructured[all-docs]) (2.14.0)\n",
      "Requirement already satisfied: dataclasses-json in /anaconda/envs/azureml_py38/lib/python3.10/site-packages (from unstructured[all-docs]) (0.6.7)\n",
      "Requirement already satisfied: wrapt in /anaconda/envs/azureml_py38/lib/python3.10/site-packages (from unstructured[all-docs]) (1.14.1)\n",
      "Requirement already satisfied: google-cloud-vision in /anaconda/envs/azureml_py38/lib/python3.10/site-packages (from unstructured[all-docs]) (3.9.0)\n",
      "Requirement already satisfied: pdfminer.six in /anaconda/envs/azureml_py38/lib/python3.10/site-packages (from unstructured[all-docs]) (20231228)\n",
      "Requirement already satisfied: openpyxl in /anaconda/envs/azureml_py38/lib/python3.10/site-packages (from unstructured[all-docs]) (3.1.5)\n",
      "Requirement already satisfied: python-pptx>=1.0.1 in /anaconda/envs/azureml_py38/lib/python3.10/site-packages (from unstructured[all-docs]) (1.0.2)\n",
      "Requirement already satisfied: xlrd in /anaconda/envs/azureml_py38/lib/python3.10/site-packages (from unstructured[all-docs]) (2.0.1)\n",
      "Requirement already satisfied: pikepdf in /anaconda/envs/azureml_py38/lib/python3.10/site-packages (from unstructured[all-docs]) (9.4.2)\n",
      "Requirement already satisfied: pi-heif in /anaconda/envs/azureml_py38/lib/python3.10/site-packages (from unstructured[all-docs]) (0.21.0)\n",
      "Requirement already satisfied: markdown in /anaconda/envs/azureml_py38/lib/python3.10/site-packages (from unstructured[all-docs]) (3.7)\n",
      "Requirement already satisfied: effdet in /anaconda/envs/azureml_py38/lib/python3.10/site-packages (from unstructured[all-docs]) (0.4.1)\n",
      "Requirement already satisfied: pypandoc in /anaconda/envs/azureml_py38/lib/python3.10/site-packages (from unstructured[all-docs]) (1.14)\n",
      "Requirement already satisfied: unstructured-inference==0.8.1 in /anaconda/envs/azureml_py38/lib/python3.10/site-packages (from unstructured[all-docs]) (0.8.1)\n",
      "Requirement already satisfied: pandas in /anaconda/envs/azureml_py38/lib/python3.10/site-packages (from unstructured[all-docs]) (1.3.5)\n",
      "Requirement already satisfied: networkx in /anaconda/envs/azureml_py38/lib/python3.10/site-packages (from unstructured[all-docs]) (3.3)\n",
      "Requirement already satisfied: onnx in /anaconda/envs/azureml_py38/lib/python3.10/site-packages (from unstructured[all-docs]) (1.16.1)\n",
      "Requirement already satisfied: pdf2image in /anaconda/envs/azureml_py38/lib/python3.10/site-packages (from unstructured[all-docs]) (1.17.0)\n",
      "Requirement already satisfied: python-docx>=1.1.2 in /anaconda/envs/azureml_py38/lib/python3.10/site-packages (from unstructured[all-docs]) (1.1.2)\n",
      "Requirement already satisfied: pypdf in /anaconda/envs/azureml_py38/lib/python3.10/site-packages (from unstructured[all-docs]) (5.1.0)\n",
      "Requirement already satisfied: unstructured.pytesseract>=0.3.12 in /anaconda/envs/azureml_py38/lib/python3.10/site-packages (from unstructured[all-docs]) (0.3.13)\n",
      "Requirement already satisfied: matplotlib in /anaconda/envs/azureml_py38/lib/python3.10/site-packages (from unstructured-inference==0.8.1->unstructured[all-docs]) (3.6.3)\n",
      "Requirement already satisfied: huggingface-hub in /anaconda/envs/azureml_py38/lib/python3.10/site-packages (from unstructured-inference==0.8.1->unstructured[all-docs]) (0.24.5)\n",
      "Requirement already satisfied: onnxruntime>=1.17.0 in /anaconda/envs/azureml_py38/lib/python3.10/site-packages (from unstructured-inference==0.8.1->unstructured[all-docs]) (1.17.3)\n",
      "Requirement already satisfied: timm in /anaconda/envs/azureml_py38/lib/python3.10/site-packages (from unstructured-inference==0.8.1->unstructured[all-docs]) (1.0.12)\n",
      "Requirement already satisfied: python-multipart in /anaconda/envs/azureml_py38/lib/python3.10/site-packages (from unstructured-inference==0.8.1->unstructured[all-docs]) (0.0.20)\n",
      "Requirement already satisfied: layoutparser in /anaconda/envs/azureml_py38/lib/python3.10/site-packages (from unstructured-inference==0.8.1->unstructured[all-docs]) (0.3.4)\n",
      "Requirement already satisfied: transformers>=4.25.1 in /anaconda/envs/azureml_py38/lib/python3.10/site-packages (from unstructured-inference==0.8.1->unstructured[all-docs]) (4.36.2)\n",
      "Requirement already satisfied: torch in /anaconda/envs/azureml_py38/lib/python3.10/site-packages (from unstructured-inference==0.8.1->unstructured[all-docs]) (2.4.1)\n",
      "Requirement already satisfied: annotated-types>=0.4.0 in /anaconda/envs/azureml_py38/lib/python3.10/site-packages (from pydantic) (0.7.0)\n",
      "Requirement already satisfied: pydantic-core==2.20.1 in /anaconda/envs/azureml_py38/lib/python3.10/site-packages (from pydantic) (2.20.1)\n",
      "Requirement already satisfied: anyio<5,>=3.5.0 in /anaconda/envs/azureml_py38/lib/python3.10/site-packages (from openai) (4.6.0)\n",
      "Requirement already satisfied: httpx<1,>=0.23.0 in /anaconda/envs/azureml_py38/lib/python3.10/site-packages (from openai) (0.27.2)\n",
      "Requirement already satisfied: distro<2,>=1.7.0 in /anaconda/envs/azureml_py38/lib/python3.10/site-packages (from openai) (1.9.0)\n",
      "Requirement already satisfied: jiter<1,>=0.4.0 in /anaconda/envs/azureml_py38/lib/python3.10/site-packages (from openai) (0.8.2)\n",
      "Requirement already satisfied: sniffio in /anaconda/envs/azureml_py38/lib/python3.10/site-packages (from openai) (1.3.1)\n",
      "Requirement already satisfied: bcrypt>=4.0.1 in /anaconda/envs/azureml_py38/lib/python3.10/site-packages (from chromadb) (4.2.0)\n",
      "Requirement already satisfied: kubernetes>=28.1.0 in /anaconda/envs/azureml_py38/lib/python3.10/site-packages (from chromadb) (31.0.0)\n",
      "Requirement already satisfied: orjson>=3.9.12 in /anaconda/envs/azureml_py38/lib/python3.10/site-packages (from chromadb) (3.10.12)\n",
      "Requirement already satisfied: posthog>=2.4.0 in /anaconda/envs/azureml_py38/lib/python3.10/site-packages (from chromadb) (3.7.4)\n",
      "Requirement already satisfied: opentelemetry-api>=1.2.0 in /anaconda/envs/azureml_py38/lib/python3.10/site-packages (from chromadb) (1.29.0)\n",
      "Requirement already satisfied: typer>=0.9.0 in /anaconda/envs/azureml_py38/lib/python3.10/site-packages (from chromadb) (0.9.4)\n",
      "Requirement already satisfied: chroma-hnswlib==0.7.6 in /anaconda/envs/azureml_py38/lib/python3.10/site-packages (from chromadb) (0.7.6)\n",
      "Requirement already satisfied: overrides>=7.3.1 in /anaconda/envs/azureml_py38/lib/python3.10/site-packages (from chromadb) (7.7.0)\n",
      "Requirement already satisfied: pypika>=0.48.9 in /anaconda/envs/azureml_py38/lib/python3.10/site-packages (from chromadb) (0.48.9)\n",
      "Requirement already satisfied: opentelemetry-instrumentation-fastapi>=0.41b0 in /anaconda/envs/azureml_py38/lib/python3.10/site-packages (from chromadb) (0.50b0)\n",
      "Requirement already satisfied: grpcio>=1.58.0 in /anaconda/envs/azureml_py38/lib/python3.10/site-packages (from chromadb) (1.68.1)\n",
      "Requirement already satisfied: opentelemetry-sdk>=1.2.0 in /anaconda/envs/azureml_py38/lib/python3.10/site-packages (from chromadb) (1.29.0)\n",
      "Requirement already satisfied: mmh3>=4.0.1 in /anaconda/envs/azureml_py38/lib/python3.10/site-packages (from chromadb) (5.0.1)\n",
      "Requirement already satisfied: importlib-resources in /anaconda/envs/azureml_py38/lib/python3.10/site-packages (from chromadb) (6.4.0)\n",
      "Requirement already satisfied: fastapi>=0.95.2 in /anaconda/envs/azureml_py38/lib/python3.10/site-packages (from chromadb) (0.115.0)\n",
      "Requirement already satisfied: tokenizers<=0.20.3,>=0.13.2 in /anaconda/envs/azureml_py38/lib/python3.10/site-packages (from chromadb) (0.15.2)\n",
      "Requirement already satisfied: rich>=10.11.0 in /anaconda/envs/azureml_py38/lib/python3.10/site-packages (from chromadb) (13.8.1)\n",
      "Requirement already satisfied: uvicorn[standard]>=0.18.3 in /anaconda/envs/azureml_py38/lib/python3.10/site-packages (from chromadb) (0.30.6)\n",
      "Requirement already satisfied: opentelemetry-exporter-otlp-proto-grpc>=1.2.0 in /anaconda/envs/azureml_py38/lib/python3.10/site-packages (from chromadb) (1.29.0)\n",
      "Requirement already satisfied: build>=1.0.3 in /anaconda/envs/azureml_py38/lib/python3.10/site-packages (from chromadb) (1.2.2.post1)\n",
      "Requirement already satisfied: regex>=2022.1.18 in /anaconda/envs/azureml_py38/lib/python3.10/site-packages (from tiktoken) (2024.7.24)\n",
      "Requirement already satisfied: yarl<2.0,>=1.0 in /anaconda/envs/azureml_py38/lib/python3.10/site-packages (from aiohttp<4.0.0,>=3.8.3->langchain) (1.9.4)\n",
      "Requirement already satisfied: aiohappyeyeballs>=2.3.0 in /anaconda/envs/azureml_py38/lib/python3.10/site-packages (from aiohttp<4.0.0,>=3.8.3->langchain) (2.3.5)\n",
      "Requirement already satisfied: attrs>=17.3.0 in /anaconda/envs/azureml_py38/lib/python3.10/site-packages (from aiohttp<4.0.0,>=3.8.3->langchain) (24.2.0)\n",
      "Requirement already satisfied: aiosignal>=1.1.2 in /anaconda/envs/azureml_py38/lib/python3.10/site-packages (from aiohttp<4.0.0,>=3.8.3->langchain) (1.3.1)\n",
      "Requirement already satisfied: multidict<7.0,>=4.5 in /anaconda/envs/azureml_py38/lib/python3.10/site-packages (from aiohttp<4.0.0,>=3.8.3->langchain) (6.0.5)\n",
      "Requirement already satisfied: frozenlist>=1.1.1 in /anaconda/envs/azureml_py38/lib/python3.10/site-packages (from aiohttp<4.0.0,>=3.8.3->langchain) (1.4.1)\n",
      "Requirement already satisfied: exceptiongroup>=1.0.2 in /anaconda/envs/azureml_py38/lib/python3.10/site-packages (from anyio<5,>=3.5.0->openai) (1.2.2)\n",
      "Requirement already satisfied: idna>=2.8 in /anaconda/envs/azureml_py38/lib/python3.10/site-packages (from anyio<5,>=3.5.0->openai) (3.7)\n",
      "Requirement already satisfied: packaging>=19.1 in /anaconda/envs/azureml_py38/lib/python3.10/site-packages (from build>=1.0.3->chromadb) (24.1)\n",
      "Requirement already satisfied: pyproject_hooks in /anaconda/envs/azureml_py38/lib/python3.10/site-packages (from build>=1.0.3->chromadb) (1.2.0)\n",
      "Requirement already satisfied: tomli>=1.1.0 in /anaconda/envs/azureml_py38/lib/python3.10/site-packages (from build>=1.0.3->chromadb) (2.0.1)\n",
      "Requirement already satisfied: starlette<0.39.0,>=0.37.2 in /anaconda/envs/azureml_py38/lib/python3.10/site-packages (from fastapi>=0.95.2->chromadb) (0.38.6)\n",
      "Requirement already satisfied: httpcore==1.* in /anaconda/envs/azureml_py38/lib/python3.10/site-packages (from httpx<1,>=0.23.0->openai) (1.0.5)\n",
      "Requirement already satisfied: certifi in /anaconda/envs/azureml_py38/lib/python3.10/site-packages (from httpx<1,>=0.23.0->openai) (2024.8.30)\n",
      "Requirement already satisfied: h11<0.15,>=0.13 in /anaconda/envs/azureml_py38/lib/python3.10/site-packages (from httpcore==1.*->httpx<1,>=0.23.0->openai) (0.14.0)\n",
      "Requirement already satisfied: python-dateutil>=2.5.3 in /anaconda/envs/azureml_py38/lib/python3.10/site-packages (from kubernetes>=28.1.0->chromadb) (2.9.0.post0)\n",
      "Requirement already satisfied: durationpy>=0.7 in /anaconda/envs/azureml_py38/lib/python3.10/site-packages (from kubernetes>=28.1.0->chromadb) (0.9)\n",
      "Requirement already satisfied: oauthlib>=3.2.2 in /anaconda/envs/azureml_py38/lib/python3.10/site-packages (from kubernetes>=28.1.0->chromadb) (3.2.2)\n",
      "Requirement already satisfied: urllib3>=1.24.2 in /anaconda/envs/azureml_py38/lib/python3.10/site-packages (from kubernetes>=28.1.0->chromadb) (1.26.19)\n",
      "Requirement already satisfied: google-auth>=1.0.1 in /anaconda/envs/azureml_py38/lib/python3.10/site-packages (from kubernetes>=28.1.0->chromadb) (2.32.0)\n",
      "Requirement already satisfied: requests-oauthlib in /anaconda/envs/azureml_py38/lib/python3.10/site-packages (from kubernetes>=28.1.0->chromadb) (2.0.0)\n",
      "Requirement already satisfied: websocket-client!=0.40.0,!=0.41.*,!=0.42.*,>=0.32.0 in /anaconda/envs/azureml_py38/lib/python3.10/site-packages (from kubernetes>=28.1.0->chromadb) (1.8.0)\n",
      "Requirement already satisfied: six>=1.9.0 in /anaconda/envs/azureml_py38/lib/python3.10/site-packages (from kubernetes>=28.1.0->chromadb) (1.16.0)\n",
      "Requirement already satisfied: jsonpatch<2.0,>=1.33 in /anaconda/envs/azureml_py38/lib/python3.10/site-packages (from langchain-core<0.4.0,>=0.3.26->langchain) (1.33)\n",
      "Requirement already satisfied: requests-toolbelt<2.0.0,>=1.0.0 in /anaconda/envs/azureml_py38/lib/python3.10/site-packages (from langsmith<0.3,>=0.1.17->langchain) (1.0.0)\n",
      "Requirement already satisfied: sympy in /anaconda/envs/azureml_py38/lib/python3.10/site-packages (from onnxruntime>=1.17.0->unstructured-inference==0.8.1->unstructured[all-docs]) (1.13.1)\n",
      "Requirement already satisfied: protobuf in /anaconda/envs/azureml_py38/lib/python3.10/site-packages (from onnxruntime>=1.17.0->unstructured-inference==0.8.1->unstructured[all-docs]) (5.29.2)\n",
      "Requirement already satisfied: flatbuffers in /anaconda/envs/azureml_py38/lib/python3.10/site-packages (from onnxruntime>=1.17.0->unstructured-inference==0.8.1->unstructured[all-docs]) (24.3.25)\n",
      "Requirement already satisfied: coloredlogs in /anaconda/envs/azureml_py38/lib/python3.10/site-packages (from onnxruntime>=1.17.0->unstructured-inference==0.8.1->unstructured[all-docs]) (15.0.1)\n",
      "Requirement already satisfied: importlib-metadata<=8.5.0,>=6.0 in /anaconda/envs/azureml_py38/lib/python3.10/site-packages (from opentelemetry-api>=1.2.0->chromadb) (8.0.0)\n",
      "Requirement already satisfied: deprecated>=1.2.6 in /anaconda/envs/azureml_py38/lib/python3.10/site-packages (from opentelemetry-api>=1.2.0->chromadb) (1.2.14)\n",
      "Requirement already satisfied: googleapis-common-protos~=1.52 in /anaconda/envs/azureml_py38/lib/python3.10/site-packages (from opentelemetry-exporter-otlp-proto-grpc>=1.2.0->chromadb) (1.63.2)\n",
      "Requirement already satisfied: opentelemetry-proto==1.29.0 in /anaconda/envs/azureml_py38/lib/python3.10/site-packages (from opentelemetry-exporter-otlp-proto-grpc>=1.2.0->chromadb) (1.29.0)\n",
      "Requirement already satisfied: opentelemetry-exporter-otlp-proto-common==1.29.0 in /anaconda/envs/azureml_py38/lib/python3.10/site-packages (from opentelemetry-exporter-otlp-proto-grpc>=1.2.0->chromadb) (1.29.0)\n",
      "Requirement already satisfied: opentelemetry-semantic-conventions==0.50b0 in /anaconda/envs/azureml_py38/lib/python3.10/site-packages (from opentelemetry-instrumentation-fastapi>=0.41b0->chromadb) (0.50b0)\n",
      "Requirement already satisfied: opentelemetry-instrumentation-asgi==0.50b0 in /anaconda/envs/azureml_py38/lib/python3.10/site-packages (from opentelemetry-instrumentation-fastapi>=0.41b0->chromadb) (0.50b0)\n",
      "Requirement already satisfied: opentelemetry-instrumentation==0.50b0 in /anaconda/envs/azureml_py38/lib/python3.10/site-packages (from opentelemetry-instrumentation-fastapi>=0.41b0->chromadb) (0.50b0)\n",
      "Requirement already satisfied: opentelemetry-util-http==0.50b0 in /anaconda/envs/azureml_py38/lib/python3.10/site-packages (from opentelemetry-instrumentation-fastapi>=0.41b0->chromadb) (0.50b0)\n",
      "Requirement already satisfied: asgiref~=3.0 in /anaconda/envs/azureml_py38/lib/python3.10/site-packages (from opentelemetry-instrumentation-asgi==0.50b0->opentelemetry-instrumentation-fastapi>=0.41b0->chromadb) (3.8.1)\n",
      "Requirement already satisfied: monotonic>=1.5 in /anaconda/envs/azureml_py38/lib/python3.10/site-packages (from posthog>=2.4.0->chromadb) (1.6)\n",
      "Requirement already satisfied: Pillow>=3.3.2 in /anaconda/envs/azureml_py38/lib/python3.10/site-packages (from python-pptx>=1.0.1->unstructured[all-docs]) (11.0.0)\n",
      "Requirement already satisfied: XlsxWriter>=0.5.7 in /anaconda/envs/azureml_py38/lib/python3.10/site-packages (from python-pptx>=1.0.1->unstructured[all-docs]) (3.2.0)\n",
      "Requirement already satisfied: charset-normalizer<4,>=2 in /anaconda/envs/azureml_py38/lib/python3.10/site-packages (from requests<3,>=2->langchain) (3.3.2)\n",
      "Requirement already satisfied: markdown-it-py>=2.2.0 in /anaconda/envs/azureml_py38/lib/python3.10/site-packages (from rich>=10.11.0->chromadb) (3.0.0)\n",
      "Requirement already satisfied: pygments<3.0.0,>=2.13.0 in /anaconda/envs/azureml_py38/lib/python3.10/site-packages (from rich>=10.11.0->chromadb) (2.18.0)\n",
      "Requirement already satisfied: greenlet!=0.4.17 in /anaconda/envs/azureml_py38/lib/python3.10/site-packages (from SQLAlchemy<3,>=1.4->langchain) (3.1.1)\n",
      "Requirement already satisfied: click<9.0.0,>=7.1.1 in /anaconda/envs/azureml_py38/lib/python3.10/site-packages (from typer>=0.9.0->chromadb) (8.1.7)\n",
      "Requirement already satisfied: websockets>=10.4 in /anaconda/envs/azureml_py38/lib/python3.10/site-packages (from uvicorn[standard]>=0.18.3->chromadb) (13.1)\n",
      "Requirement already satisfied: uvloop!=0.15.0,!=0.15.1,>=0.14.0 in /anaconda/envs/azureml_py38/lib/python3.10/site-packages (from uvicorn[standard]>=0.18.3->chromadb) (0.21.0)\n",
      "Requirement already satisfied: python-dotenv>=0.13 in /anaconda/envs/azureml_py38/lib/python3.10/site-packages (from uvicorn[standard]>=0.18.3->chromadb) (1.0.1)\n",
      "Requirement already satisfied: httptools>=0.5.0 in /anaconda/envs/azureml_py38/lib/python3.10/site-packages (from uvicorn[standard]>=0.18.3->chromadb) (0.6.4)\n",
      "Requirement already satisfied: watchfiles>=0.13 in /anaconda/envs/azureml_py38/lib/python3.10/site-packages (from uvicorn[standard]>=0.18.3->chromadb) (1.0.3)\n",
      "Requirement already satisfied: soupsieve>1.2 in /anaconda/envs/azureml_py38/lib/python3.10/site-packages (from beautifulsoup4->unstructured[all-docs]) (2.5)\n",
      "Requirement already satisfied: marshmallow<4.0.0,>=3.18.0 in /anaconda/envs/azureml_py38/lib/python3.10/site-packages (from dataclasses-json->unstructured[all-docs]) (3.23.2)\n",
      "Requirement already satisfied: typing-inspect<1,>=0.4.0 in /anaconda/envs/azureml_py38/lib/python3.10/site-packages (from dataclasses-json->unstructured[all-docs]) (0.9.0)\n",
      "Requirement already satisfied: torchvision in /anaconda/envs/azureml_py38/lib/python3.10/site-packages (from effdet->unstructured[all-docs]) (0.19.1)\n",
      "Requirement already satisfied: omegaconf>=2.0 in /anaconda/envs/azureml_py38/lib/python3.10/site-packages (from effdet->unstructured[all-docs]) (2.3.0)\n",
      "Requirement already satisfied: pycocotools>=2.0.2 in /anaconda/envs/azureml_py38/lib/python3.10/site-packages (from effdet->unstructured[all-docs]) (2.0.8)\n",
      "Requirement already satisfied: google-api-core[grpc]!=2.0.*,!=2.1.*,!=2.10.*,!=2.2.*,!=2.3.*,!=2.4.*,!=2.5.*,!=2.6.*,!=2.7.*,!=2.8.*,!=2.9.*,<3.0.0dev,>=1.34.1 in /anaconda/envs/azureml_py38/lib/python3.10/site-packages (from google-cloud-vision->unstructured[all-docs]) (2.19.1)\n",
      "Requirement already satisfied: proto-plus<2.0.0dev,>=1.22.3 in /anaconda/envs/azureml_py38/lib/python3.10/site-packages (from google-cloud-vision->unstructured[all-docs]) (1.24.0)\n",
      "Requirement already satisfied: webencodings in /anaconda/envs/azureml_py38/lib/python3.10/site-packages (from html5lib->unstructured[all-docs]) (0.5.1)\n",
      "Requirement already satisfied: joblib in /anaconda/envs/azureml_py38/lib/python3.10/site-packages (from nltk->unstructured[all-docs]) (1.2.0)\n",
      "Requirement already satisfied: et-xmlfile in /anaconda/envs/azureml_py38/lib/python3.10/site-packages (from openpyxl->unstructured[all-docs]) (2.0.0)\n",
      "Requirement already satisfied: pytz>=2017.3 in /anaconda/envs/azureml_py38/lib/python3.10/site-packages (from pandas->unstructured[all-docs]) (2022.5)\n",
      "Requirement already satisfied: cryptography>=36.0.0 in /anaconda/envs/azureml_py38/lib/python3.10/site-packages (from pdfminer.six->unstructured[all-docs]) (38.0.4)\n",
      "Requirement already satisfied: olefile in /anaconda/envs/azureml_py38/lib/python3.10/site-packages (from python-oxmsg->unstructured[all-docs]) (0.47)\n",
      "Requirement already satisfied: jsonpath-python>=1.0.6 in /anaconda/envs/azureml_py38/lib/python3.10/site-packages (from unstructured-client->unstructured[all-docs]) (1.0.6)\n",
      "Requirement already satisfied: mypy-extensions>=1.0.0 in /anaconda/envs/azureml_py38/lib/python3.10/site-packages (from unstructured-client->unstructured[all-docs]) (1.0.0)\n",
      "Requirement already satisfied: nest-asyncio>=1.6.0 in /anaconda/envs/azureml_py38/lib/python3.10/site-packages (from unstructured-client->unstructured[all-docs]) (1.6.0)\n",
      "Requirement already satisfied: deepdiff>=6.0 in /anaconda/envs/azureml_py38/lib/python3.10/site-packages (from unstructured-client->unstructured[all-docs]) (8.1.1)\n",
      "Requirement already satisfied: cffi>=1.12 in /anaconda/envs/azureml_py38/lib/python3.10/site-packages (from cryptography>=36.0.0->pdfminer.six->unstructured[all-docs]) (1.16.0)\n",
      "Requirement already satisfied: orderly-set<6,>=5.2.3 in /anaconda/envs/azureml_py38/lib/python3.10/site-packages (from deepdiff>=6.0->unstructured-client->unstructured[all-docs]) (5.2.3)\n",
      "Requirement already satisfied: grpcio-status<2.0.dev0,>=1.33.2 in /anaconda/envs/azureml_py38/lib/python3.10/site-packages (from google-api-core[grpc]!=2.0.*,!=2.1.*,!=2.10.*,!=2.2.*,!=2.3.*,!=2.4.*,!=2.5.*,!=2.6.*,!=2.7.*,!=2.8.*,!=2.9.*,<3.0.0dev,>=1.34.1->google-cloud-vision->unstructured[all-docs]) (1.68.1)\n",
      "Requirement already satisfied: pyasn1-modules>=0.2.1 in /anaconda/envs/azureml_py38/lib/python3.10/site-packages (from google-auth>=1.0.1->kubernetes>=28.1.0->chromadb) (0.4.0)\n",
      "Requirement already satisfied: rsa<5,>=3.1.4 in /anaconda/envs/azureml_py38/lib/python3.10/site-packages (from google-auth>=1.0.1->kubernetes>=28.1.0->chromadb) (4.9)\n",
      "Requirement already satisfied: cachetools<6.0,>=2.0.0 in /anaconda/envs/azureml_py38/lib/python3.10/site-packages (from google-auth>=1.0.1->kubernetes>=28.1.0->chromadb) (5.4.0)\n",
      "Requirement already satisfied: filelock in /anaconda/envs/azureml_py38/lib/python3.10/site-packages (from huggingface-hub->unstructured-inference==0.8.1->unstructured[all-docs]) (3.15.4)\n",
      "Requirement already satisfied: fsspec>=2023.5.0 in /anaconda/envs/azureml_py38/lib/python3.10/site-packages (from huggingface-hub->unstructured-inference==0.8.1->unstructured[all-docs]) (2023.10.0)\n",
      "Requirement already satisfied: zipp>=0.5 in /anaconda/envs/azureml_py38/lib/python3.10/site-packages (from importlib-metadata<=8.5.0,>=6.0->opentelemetry-api>=1.2.0->chromadb) (3.19.2)\n",
      "Requirement already satisfied: jsonpointer>=1.9 in /anaconda/envs/azureml_py38/lib/python3.10/site-packages (from jsonpatch<2.0,>=1.33->langchain-core<0.4.0,>=0.3.26->langchain) (3.0.0)\n",
      "Requirement already satisfied: mdurl~=0.1 in /anaconda/envs/azureml_py38/lib/python3.10/site-packages (from markdown-it-py>=2.2.0->rich>=10.11.0->chromadb) (0.1.2)\n",
      "Requirement already satisfied: antlr4-python3-runtime==4.9.* in /anaconda/envs/azureml_py38/lib/python3.10/site-packages (from omegaconf>=2.0->effdet->unstructured[all-docs]) (4.9.3)\n",
      "Requirement already satisfied: cycler>=0.10 in /anaconda/envs/azureml_py38/lib/python3.10/site-packages (from matplotlib->unstructured-inference==0.8.1->unstructured[all-docs]) (0.12.1)\n",
      "Requirement already satisfied: pyparsing>=2.2.1 in /anaconda/envs/azureml_py38/lib/python3.10/site-packages (from matplotlib->unstructured-inference==0.8.1->unstructured[all-docs]) (3.1.2)\n",
      "Requirement already satisfied: fonttools>=4.22.0 in /anaconda/envs/azureml_py38/lib/python3.10/site-packages (from matplotlib->unstructured-inference==0.8.1->unstructured[all-docs]) (4.51.0)\n",
      "Requirement already satisfied: contourpy>=1.0.1 in /anaconda/envs/azureml_py38/lib/python3.10/site-packages (from matplotlib->unstructured-inference==0.8.1->unstructured[all-docs]) (1.2.1)\n",
      "Requirement already satisfied: kiwisolver>=1.0.1 in /anaconda/envs/azureml_py38/lib/python3.10/site-packages (from matplotlib->unstructured-inference==0.8.1->unstructured[all-docs]) (1.4.5)\n",
      "Requirement already satisfied: safetensors in /anaconda/envs/azureml_py38/lib/python3.10/site-packages (from timm->unstructured-inference==0.8.1->unstructured[all-docs]) (0.4.4)\n",
      "Requirement already satisfied: nvidia-cudnn-cu12==9.1.0.70 in /anaconda/envs/azureml_py38/lib/python3.10/site-packages (from torch->unstructured-inference==0.8.1->unstructured[all-docs]) (9.1.0.70)\n",
      "Requirement already satisfied: nvidia-cufft-cu12==11.0.2.54 in /anaconda/envs/azureml_py38/lib/python3.10/site-packages (from torch->unstructured-inference==0.8.1->unstructured[all-docs]) (11.0.2.54)\n",
      "Requirement already satisfied: nvidia-cusparse-cu12==12.1.0.106 in /anaconda/envs/azureml_py38/lib/python3.10/site-packages (from torch->unstructured-inference==0.8.1->unstructured[all-docs]) (12.1.0.106)\n",
      "Requirement already satisfied: nvidia-curand-cu12==10.3.2.106 in /anaconda/envs/azureml_py38/lib/python3.10/site-packages (from torch->unstructured-inference==0.8.1->unstructured[all-docs]) (10.3.2.106)\n",
      "Requirement already satisfied: nvidia-nccl-cu12==2.20.5 in /anaconda/envs/azureml_py38/lib/python3.10/site-packages (from torch->unstructured-inference==0.8.1->unstructured[all-docs]) (2.20.5)\n",
      "Requirement already satisfied: nvidia-cublas-cu12==12.1.3.1 in /anaconda/envs/azureml_py38/lib/python3.10/site-packages (from torch->unstructured-inference==0.8.1->unstructured[all-docs]) (12.1.3.1)\n",
      "Requirement already satisfied: nvidia-nvtx-cu12==12.1.105 in /anaconda/envs/azureml_py38/lib/python3.10/site-packages (from torch->unstructured-inference==0.8.1->unstructured[all-docs]) (12.1.105)\n",
      "Requirement already satisfied: nvidia-cusolver-cu12==11.4.5.107 in /anaconda/envs/azureml_py38/lib/python3.10/site-packages (from torch->unstructured-inference==0.8.1->unstructured[all-docs]) (11.4.5.107)\n",
      "Requirement already satisfied: jinja2 in /anaconda/envs/azureml_py38/lib/python3.10/site-packages (from torch->unstructured-inference==0.8.1->unstructured[all-docs]) (3.1.4)\n",
      "Requirement already satisfied: nvidia-cuda-runtime-cu12==12.1.105 in /anaconda/envs/azureml_py38/lib/python3.10/site-packages (from torch->unstructured-inference==0.8.1->unstructured[all-docs]) (12.1.105)\n",
      "Requirement already satisfied: nvidia-cuda-cupti-cu12==12.1.105 in /anaconda/envs/azureml_py38/lib/python3.10/site-packages (from torch->unstructured-inference==0.8.1->unstructured[all-docs]) (12.1.105)\n",
      "Requirement already satisfied: nvidia-cuda-nvrtc-cu12==12.1.105 in /anaconda/envs/azureml_py38/lib/python3.10/site-packages (from torch->unstructured-inference==0.8.1->unstructured[all-docs]) (12.1.105)\n",
      "Requirement already satisfied: triton==3.0.0 in /anaconda/envs/azureml_py38/lib/python3.10/site-packages (from torch->unstructured-inference==0.8.1->unstructured[all-docs]) (3.0.0)\n",
      "Requirement already satisfied: nvidia-nvjitlink-cu12 in /anaconda/envs/azureml_py38/lib/python3.10/site-packages (from nvidia-cusolver-cu12==11.4.5.107->torch->unstructured-inference==0.8.1->unstructured[all-docs]) (12.6.68)\n",
      "Requirement already satisfied: humanfriendly>=9.1 in /anaconda/envs/azureml_py38/lib/python3.10/site-packages (from coloredlogs->onnxruntime>=1.17.0->unstructured-inference==0.8.1->unstructured[all-docs]) (10.0)\n",
      "Requirement already satisfied: pdfplumber in /anaconda/envs/azureml_py38/lib/python3.10/site-packages (from layoutparser->unstructured-inference==0.8.1->unstructured[all-docs]) (0.11.4)\n",
      "Requirement already satisfied: scipy in /anaconda/envs/azureml_py38/lib/python3.10/site-packages (from layoutparser->unstructured-inference==0.8.1->unstructured[all-docs]) (1.10.1)\n",
      "Requirement already satisfied: iopath in /anaconda/envs/azureml_py38/lib/python3.10/site-packages (from layoutparser->unstructured-inference==0.8.1->unstructured[all-docs]) (0.1.10)\n",
      "Requirement already satisfied: mpmath<1.4,>=1.1.0 in /anaconda/envs/azureml_py38/lib/python3.10/site-packages (from sympy->onnxruntime>=1.17.0->unstructured-inference==0.8.1->unstructured[all-docs]) (1.3.0)\n",
      "Requirement already satisfied: pycparser in /anaconda/envs/azureml_py38/lib/python3.10/site-packages (from cffi>=1.12->cryptography>=36.0.0->pdfminer.six->unstructured[all-docs]) (2.22)\n",
      "Requirement already satisfied: pyasn1<0.7.0,>=0.4.6 in /anaconda/envs/azureml_py38/lib/python3.10/site-packages (from pyasn1-modules>=0.2.1->google-auth>=1.0.1->kubernetes>=28.1.0->chromadb) (0.6.0)\n",
      "Requirement already satisfied: portalocker in /anaconda/envs/azureml_py38/lib/python3.10/site-packages (from iopath->layoutparser->unstructured-inference==0.8.1->unstructured[all-docs]) (2.10.1)\n",
      "Requirement already satisfied: MarkupSafe>=2.0 in /anaconda/envs/azureml_py38/lib/python3.10/site-packages (from jinja2->torch->unstructured-inference==0.8.1->unstructured[all-docs]) (2.1.5)\n",
      "Requirement already satisfied: pypdfium2>=4.18.0 in /anaconda/envs/azureml_py38/lib/python3.10/site-packages (from pdfplumber->layoutparser->unstructured-inference==0.8.1->unstructured[all-docs]) (4.30.1)\n"
     ]
    }
   ],
   "source": [
    "! pip install langchain unstructured[all-docs] pydantic lxml openai chromadb tiktoken opencv-python"
   ]
  },
  {
   "cell_type": "code",
   "execution_count": 4,
   "metadata": {},
   "outputs": [
    {
     "name": "stdout",
     "output_type": "stream",
     "text": [
      "Requirement already satisfied: unstructured[all-docs] in /anaconda/envs/azureml_py38/lib/python3.10/site-packages (0.16.11)\n",
      "Requirement already satisfied: wrapt in /anaconda/envs/azureml_py38/lib/python3.10/site-packages (from unstructured[all-docs]) (1.14.1)\n",
      "Requirement already satisfied: python-iso639 in /anaconda/envs/azureml_py38/lib/python3.10/site-packages (from unstructured[all-docs]) (2024.10.22)\n",
      "Requirement already satisfied: typing-extensions in /anaconda/envs/azureml_py38/lib/python3.10/site-packages (from unstructured[all-docs]) (4.12.2)\n",
      "Requirement already satisfied: python-oxmsg in /anaconda/envs/azureml_py38/lib/python3.10/site-packages (from unstructured[all-docs]) (0.0.1)\n",
      "Requirement already satisfied: dataclasses-json in /anaconda/envs/azureml_py38/lib/python3.10/site-packages (from unstructured[all-docs]) (0.6.7)\n",
      "Requirement already satisfied: psutil in /anaconda/envs/azureml_py38/lib/python3.10/site-packages (from unstructured[all-docs]) (5.9.3)\n",
      "Requirement already satisfied: html5lib in /anaconda/envs/azureml_py38/lib/python3.10/site-packages (from unstructured[all-docs]) (1.1)\n",
      "Requirement already satisfied: filetype in /anaconda/envs/azureml_py38/lib/python3.10/site-packages (from unstructured[all-docs]) (1.2.0)\n",
      "Requirement already satisfied: unstructured-client in /anaconda/envs/azureml_py38/lib/python3.10/site-packages (from unstructured[all-docs]) (0.25.9)\n",
      "Requirement already satisfied: python-magic in /anaconda/envs/azureml_py38/lib/python3.10/site-packages (from unstructured[all-docs]) (0.4.27)\n",
      "Requirement already satisfied: rapidfuzz in /anaconda/envs/azureml_py38/lib/python3.10/site-packages (from unstructured[all-docs]) (3.11.0)\n",
      "Requirement already satisfied: requests in /anaconda/envs/azureml_py38/lib/python3.10/site-packages (from unstructured[all-docs]) (2.32.3)\n",
      "Requirement already satisfied: emoji in /anaconda/envs/azureml_py38/lib/python3.10/site-packages (from unstructured[all-docs]) (2.14.0)\n",
      "Requirement already satisfied: chardet in /anaconda/envs/azureml_py38/lib/python3.10/site-packages (from unstructured[all-docs]) (5.2.0)\n",
      "Requirement already satisfied: lxml in /anaconda/envs/azureml_py38/lib/python3.10/site-packages (from unstructured[all-docs]) (5.3.0)\n",
      "Requirement already satisfied: numpy<2 in /anaconda/envs/azureml_py38/lib/python3.10/site-packages (from unstructured[all-docs]) (1.23.5)\n",
      "Requirement already satisfied: tqdm in /anaconda/envs/azureml_py38/lib/python3.10/site-packages (from unstructured[all-docs]) (4.66.4)\n",
      "Requirement already satisfied: nltk in /anaconda/envs/azureml_py38/lib/python3.10/site-packages (from unstructured[all-docs]) (3.9.1)\n",
      "Requirement already satisfied: backoff in /anaconda/envs/azureml_py38/lib/python3.10/site-packages (from unstructured[all-docs]) (2.2.1)\n",
      "Requirement already satisfied: beautifulsoup4 in /anaconda/envs/azureml_py38/lib/python3.10/site-packages (from unstructured[all-docs]) (4.12.3)\n",
      "Requirement already satisfied: langdetect in /anaconda/envs/azureml_py38/lib/python3.10/site-packages (from unstructured[all-docs]) (1.0.9)\n",
      "Requirement already satisfied: python-docx>=1.1.2 in /anaconda/envs/azureml_py38/lib/python3.10/site-packages (from unstructured[all-docs]) (1.1.2)\n",
      "Requirement already satisfied: python-pptx>=1.0.1 in /anaconda/envs/azureml_py38/lib/python3.10/site-packages (from unstructured[all-docs]) (1.0.2)\n",
      "Requirement already satisfied: pdf2image in /anaconda/envs/azureml_py38/lib/python3.10/site-packages (from unstructured[all-docs]) (1.17.0)\n",
      "Requirement already satisfied: pandas in /anaconda/envs/azureml_py38/lib/python3.10/site-packages (from unstructured[all-docs]) (1.3.5)\n",
      "Requirement already satisfied: pi-heif in /anaconda/envs/azureml_py38/lib/python3.10/site-packages (from unstructured[all-docs]) (0.21.0)\n",
      "Requirement already satisfied: pdfminer.six in /anaconda/envs/azureml_py38/lib/python3.10/site-packages (from unstructured[all-docs]) (20231228)\n",
      "Requirement already satisfied: openpyxl in /anaconda/envs/azureml_py38/lib/python3.10/site-packages (from unstructured[all-docs]) (3.1.5)\n",
      "Requirement already satisfied: unstructured.pytesseract>=0.3.12 in /anaconda/envs/azureml_py38/lib/python3.10/site-packages (from unstructured[all-docs]) (0.3.13)\n",
      "Requirement already satisfied: onnx in /anaconda/envs/azureml_py38/lib/python3.10/site-packages (from unstructured[all-docs]) (1.16.1)\n",
      "Requirement already satisfied: markdown in /anaconda/envs/azureml_py38/lib/python3.10/site-packages (from unstructured[all-docs]) (3.7)\n",
      "Requirement already satisfied: pikepdf in /anaconda/envs/azureml_py38/lib/python3.10/site-packages (from unstructured[all-docs]) (9.4.2)\n",
      "Requirement already satisfied: unstructured-inference==0.8.1 in /anaconda/envs/azureml_py38/lib/python3.10/site-packages (from unstructured[all-docs]) (0.8.1)\n",
      "Requirement already satisfied: pypdf in /anaconda/envs/azureml_py38/lib/python3.10/site-packages (from unstructured[all-docs]) (5.1.0)\n",
      "Requirement already satisfied: xlrd in /anaconda/envs/azureml_py38/lib/python3.10/site-packages (from unstructured[all-docs]) (2.0.1)\n",
      "Requirement already satisfied: networkx in /anaconda/envs/azureml_py38/lib/python3.10/site-packages (from unstructured[all-docs]) (3.3)\n",
      "Requirement already satisfied: pypandoc in /anaconda/envs/azureml_py38/lib/python3.10/site-packages (from unstructured[all-docs]) (1.14)\n",
      "Requirement already satisfied: effdet in /anaconda/envs/azureml_py38/lib/python3.10/site-packages (from unstructured[all-docs]) (0.4.1)\n",
      "Requirement already satisfied: google-cloud-vision in /anaconda/envs/azureml_py38/lib/python3.10/site-packages (from unstructured[all-docs]) (3.9.0)\n",
      "Requirement already satisfied: matplotlib in /anaconda/envs/azureml_py38/lib/python3.10/site-packages (from unstructured-inference==0.8.1->unstructured[all-docs]) (3.6.3)\n",
      "Requirement already satisfied: huggingface-hub in /anaconda/envs/azureml_py38/lib/python3.10/site-packages (from unstructured-inference==0.8.1->unstructured[all-docs]) (0.24.5)\n",
      "Requirement already satisfied: torch in /anaconda/envs/azureml_py38/lib/python3.10/site-packages (from unstructured-inference==0.8.1->unstructured[all-docs]) (2.4.1)\n",
      "Requirement already satisfied: python-multipart in /anaconda/envs/azureml_py38/lib/python3.10/site-packages (from unstructured-inference==0.8.1->unstructured[all-docs]) (0.0.20)\n",
      "Requirement already satisfied: onnxruntime>=1.17.0 in /anaconda/envs/azureml_py38/lib/python3.10/site-packages (from unstructured-inference==0.8.1->unstructured[all-docs]) (1.17.3)\n",
      "Requirement already satisfied: timm in /anaconda/envs/azureml_py38/lib/python3.10/site-packages (from unstructured-inference==0.8.1->unstructured[all-docs]) (1.0.12)\n",
      "Requirement already satisfied: layoutparser in /anaconda/envs/azureml_py38/lib/python3.10/site-packages (from unstructured-inference==0.8.1->unstructured[all-docs]) (0.3.4)\n",
      "Requirement already satisfied: opencv-python!=4.7.0.68 in /anaconda/envs/azureml_py38/lib/python3.10/site-packages (from unstructured-inference==0.8.1->unstructured[all-docs]) (4.10.0.84)\n",
      "Requirement already satisfied: transformers>=4.25.1 in /anaconda/envs/azureml_py38/lib/python3.10/site-packages (from unstructured-inference==0.8.1->unstructured[all-docs]) (4.36.2)\n",
      "Requirement already satisfied: XlsxWriter>=0.5.7 in /anaconda/envs/azureml_py38/lib/python3.10/site-packages (from python-pptx>=1.0.1->unstructured[all-docs]) (3.2.0)\n",
      "Requirement already satisfied: Pillow>=3.3.2 in /anaconda/envs/azureml_py38/lib/python3.10/site-packages (from python-pptx>=1.0.1->unstructured[all-docs]) (11.0.0)\n",
      "Requirement already satisfied: packaging>=21.3 in /anaconda/envs/azureml_py38/lib/python3.10/site-packages (from unstructured.pytesseract>=0.3.12->unstructured[all-docs]) (24.1)\n",
      "Requirement already satisfied: soupsieve>1.2 in /anaconda/envs/azureml_py38/lib/python3.10/site-packages (from beautifulsoup4->unstructured[all-docs]) (2.5)\n",
      "Requirement already satisfied: marshmallow<4.0.0,>=3.18.0 in /anaconda/envs/azureml_py38/lib/python3.10/site-packages (from dataclasses-json->unstructured[all-docs]) (3.23.2)\n",
      "Requirement already satisfied: typing-inspect<1,>=0.4.0 in /anaconda/envs/azureml_py38/lib/python3.10/site-packages (from dataclasses-json->unstructured[all-docs]) (0.9.0)\n",
      "Requirement already satisfied: torchvision in /anaconda/envs/azureml_py38/lib/python3.10/site-packages (from effdet->unstructured[all-docs]) (0.19.1)\n",
      "Requirement already satisfied: omegaconf>=2.0 in /anaconda/envs/azureml_py38/lib/python3.10/site-packages (from effdet->unstructured[all-docs]) (2.3.0)\n",
      "Requirement already satisfied: pycocotools>=2.0.2 in /anaconda/envs/azureml_py38/lib/python3.10/site-packages (from effdet->unstructured[all-docs]) (2.0.8)\n",
      "Requirement already satisfied: google-auth!=2.24.0,!=2.25.0,<3.0.0dev,>=2.14.1 in /anaconda/envs/azureml_py38/lib/python3.10/site-packages (from google-cloud-vision->unstructured[all-docs]) (2.32.0)\n",
      "Requirement already satisfied: protobuf!=4.21.0,!=4.21.1,!=4.21.2,!=4.21.3,!=4.21.4,!=4.21.5,<6.0.0dev,>=3.20.2 in /anaconda/envs/azureml_py38/lib/python3.10/site-packages (from google-cloud-vision->unstructured[all-docs]) (5.29.2)\n",
      "Requirement already satisfied: proto-plus<2.0.0dev,>=1.22.3 in /anaconda/envs/azureml_py38/lib/python3.10/site-packages (from google-cloud-vision->unstructured[all-docs]) (1.24.0)\n",
      "Requirement already satisfied: google-api-core[grpc]!=2.0.*,!=2.1.*,!=2.10.*,!=2.2.*,!=2.3.*,!=2.4.*,!=2.5.*,!=2.6.*,!=2.7.*,!=2.8.*,!=2.9.*,<3.0.0dev,>=1.34.1 in /anaconda/envs/azureml_py38/lib/python3.10/site-packages (from google-cloud-vision->unstructured[all-docs]) (2.19.1)\n",
      "Requirement already satisfied: six>=1.9 in /anaconda/envs/azureml_py38/lib/python3.10/site-packages (from html5lib->unstructured[all-docs]) (1.16.0)\n",
      "Requirement already satisfied: webencodings in /anaconda/envs/azureml_py38/lib/python3.10/site-packages (from html5lib->unstructured[all-docs]) (0.5.1)\n",
      "Requirement already satisfied: regex>=2021.8.3 in /anaconda/envs/azureml_py38/lib/python3.10/site-packages (from nltk->unstructured[all-docs]) (2024.7.24)\n",
      "Requirement already satisfied: click in /anaconda/envs/azureml_py38/lib/python3.10/site-packages (from nltk->unstructured[all-docs]) (8.1.7)\n",
      "Requirement already satisfied: joblib in /anaconda/envs/azureml_py38/lib/python3.10/site-packages (from nltk->unstructured[all-docs]) (1.2.0)\n",
      "Requirement already satisfied: et-xmlfile in /anaconda/envs/azureml_py38/lib/python3.10/site-packages (from openpyxl->unstructured[all-docs]) (2.0.0)\n",
      "Requirement already satisfied: pytz>=2017.3 in /anaconda/envs/azureml_py38/lib/python3.10/site-packages (from pandas->unstructured[all-docs]) (2022.5)\n",
      "Requirement already satisfied: python-dateutil>=2.7.3 in /anaconda/envs/azureml_py38/lib/python3.10/site-packages (from pandas->unstructured[all-docs]) (2.9.0.post0)\n",
      "Requirement already satisfied: cryptography>=36.0.0 in /anaconda/envs/azureml_py38/lib/python3.10/site-packages (from pdfminer.six->unstructured[all-docs]) (38.0.4)\n",
      "Requirement already satisfied: charset-normalizer>=2.0.0 in /anaconda/envs/azureml_py38/lib/python3.10/site-packages (from pdfminer.six->unstructured[all-docs]) (3.3.2)\n",
      "Requirement already satisfied: Deprecated in /anaconda/envs/azureml_py38/lib/python3.10/site-packages (from pikepdf->unstructured[all-docs]) (1.2.14)\n",
      "Requirement already satisfied: olefile in /anaconda/envs/azureml_py38/lib/python3.10/site-packages (from python-oxmsg->unstructured[all-docs]) (0.47)\n",
      "Requirement already satisfied: certifi>=2017.4.17 in /anaconda/envs/azureml_py38/lib/python3.10/site-packages (from requests->unstructured[all-docs]) (2024.8.30)\n",
      "Requirement already satisfied: idna<4,>=2.5 in /anaconda/envs/azureml_py38/lib/python3.10/site-packages (from requests->unstructured[all-docs]) (3.7)\n",
      "Requirement already satisfied: urllib3<3,>=1.21.1 in /anaconda/envs/azureml_py38/lib/python3.10/site-packages (from requests->unstructured[all-docs]) (1.26.19)\n",
      "Requirement already satisfied: jsonpath-python>=1.0.6 in /anaconda/envs/azureml_py38/lib/python3.10/site-packages (from unstructured-client->unstructured[all-docs]) (1.0.6)\n",
      "Requirement already satisfied: deepdiff>=6.0 in /anaconda/envs/azureml_py38/lib/python3.10/site-packages (from unstructured-client->unstructured[all-docs]) (8.1.1)\n",
      "Requirement already satisfied: mypy-extensions>=1.0.0 in /anaconda/envs/azureml_py38/lib/python3.10/site-packages (from unstructured-client->unstructured[all-docs]) (1.0.0)\n",
      "Requirement already satisfied: nest-asyncio>=1.6.0 in /anaconda/envs/azureml_py38/lib/python3.10/site-packages (from unstructured-client->unstructured[all-docs]) (1.6.0)\n",
      "Requirement already satisfied: httpx>=0.27.0 in /anaconda/envs/azureml_py38/lib/python3.10/site-packages (from unstructured-client->unstructured[all-docs]) (0.27.2)\n",
      "Requirement already satisfied: requests-toolbelt>=1.0.0 in /anaconda/envs/azureml_py38/lib/python3.10/site-packages (from unstructured-client->unstructured[all-docs]) (1.0.0)\n",
      "Requirement already satisfied: cffi>=1.12 in /anaconda/envs/azureml_py38/lib/python3.10/site-packages (from cryptography>=36.0.0->pdfminer.six->unstructured[all-docs]) (1.16.0)\n",
      "Requirement already satisfied: orderly-set<6,>=5.2.3 in /anaconda/envs/azureml_py38/lib/python3.10/site-packages (from deepdiff>=6.0->unstructured-client->unstructured[all-docs]) (5.2.3)\n",
      "Requirement already satisfied: googleapis-common-protos<2.0.dev0,>=1.56.2 in /anaconda/envs/azureml_py38/lib/python3.10/site-packages (from google-api-core[grpc]!=2.0.*,!=2.1.*,!=2.10.*,!=2.2.*,!=2.3.*,!=2.4.*,!=2.5.*,!=2.6.*,!=2.7.*,!=2.8.*,!=2.9.*,<3.0.0dev,>=1.34.1->google-cloud-vision->unstructured[all-docs]) (1.63.2)\n",
      "Requirement already satisfied: grpcio-status<2.0.dev0,>=1.33.2 in /anaconda/envs/azureml_py38/lib/python3.10/site-packages (from google-api-core[grpc]!=2.0.*,!=2.1.*,!=2.10.*,!=2.2.*,!=2.3.*,!=2.4.*,!=2.5.*,!=2.6.*,!=2.7.*,!=2.8.*,!=2.9.*,<3.0.0dev,>=1.34.1->google-cloud-vision->unstructured[all-docs]) (1.68.1)\n",
      "Requirement already satisfied: grpcio<2.0dev,>=1.33.2 in /anaconda/envs/azureml_py38/lib/python3.10/site-packages (from google-api-core[grpc]!=2.0.*,!=2.1.*,!=2.10.*,!=2.2.*,!=2.3.*,!=2.4.*,!=2.5.*,!=2.6.*,!=2.7.*,!=2.8.*,!=2.9.*,<3.0.0dev,>=1.34.1->google-cloud-vision->unstructured[all-docs]) (1.68.1)\n",
      "Requirement already satisfied: pyasn1-modules>=0.2.1 in /anaconda/envs/azureml_py38/lib/python3.10/site-packages (from google-auth!=2.24.0,!=2.25.0,<3.0.0dev,>=2.14.1->google-cloud-vision->unstructured[all-docs]) (0.4.0)\n",
      "Requirement already satisfied: rsa<5,>=3.1.4 in /anaconda/envs/azureml_py38/lib/python3.10/site-packages (from google-auth!=2.24.0,!=2.25.0,<3.0.0dev,>=2.14.1->google-cloud-vision->unstructured[all-docs]) (4.9)\n",
      "Requirement already satisfied: cachetools<6.0,>=2.0.0 in /anaconda/envs/azureml_py38/lib/python3.10/site-packages (from google-auth!=2.24.0,!=2.25.0,<3.0.0dev,>=2.14.1->google-cloud-vision->unstructured[all-docs]) (5.4.0)\n",
      "Requirement already satisfied: anyio in /anaconda/envs/azureml_py38/lib/python3.10/site-packages (from httpx>=0.27.0->unstructured-client->unstructured[all-docs]) (4.6.0)\n",
      "Requirement already satisfied: sniffio in /anaconda/envs/azureml_py38/lib/python3.10/site-packages (from httpx>=0.27.0->unstructured-client->unstructured[all-docs]) (1.3.1)\n",
      "Requirement already satisfied: httpcore==1.* in /anaconda/envs/azureml_py38/lib/python3.10/site-packages (from httpx>=0.27.0->unstructured-client->unstructured[all-docs]) (1.0.5)\n",
      "Requirement already satisfied: h11<0.15,>=0.13 in /anaconda/envs/azureml_py38/lib/python3.10/site-packages (from httpcore==1.*->httpx>=0.27.0->unstructured-client->unstructured[all-docs]) (0.14.0)\n",
      "Requirement already satisfied: PyYAML>=5.1.0 in /anaconda/envs/azureml_py38/lib/python3.10/site-packages (from omegaconf>=2.0->effdet->unstructured[all-docs]) (6.0.1)\n",
      "Requirement already satisfied: antlr4-python3-runtime==4.9.* in /anaconda/envs/azureml_py38/lib/python3.10/site-packages (from omegaconf>=2.0->effdet->unstructured[all-docs]) (4.9.3)\n",
      "Requirement already satisfied: flatbuffers in /anaconda/envs/azureml_py38/lib/python3.10/site-packages (from onnxruntime>=1.17.0->unstructured-inference==0.8.1->unstructured[all-docs]) (24.3.25)\n",
      "Requirement already satisfied: sympy in /anaconda/envs/azureml_py38/lib/python3.10/site-packages (from onnxruntime>=1.17.0->unstructured-inference==0.8.1->unstructured[all-docs]) (1.13.1)\n",
      "Requirement already satisfied: coloredlogs in /anaconda/envs/azureml_py38/lib/python3.10/site-packages (from onnxruntime>=1.17.0->unstructured-inference==0.8.1->unstructured[all-docs]) (15.0.1)\n",
      "Requirement already satisfied: contourpy>=1.0.1 in /anaconda/envs/azureml_py38/lib/python3.10/site-packages (from matplotlib->unstructured-inference==0.8.1->unstructured[all-docs]) (1.2.1)\n",
      "Requirement already satisfied: pyparsing>=2.2.1 in /anaconda/envs/azureml_py38/lib/python3.10/site-packages (from matplotlib->unstructured-inference==0.8.1->unstructured[all-docs]) (3.1.2)\n",
      "Requirement already satisfied: cycler>=0.10 in /anaconda/envs/azureml_py38/lib/python3.10/site-packages (from matplotlib->unstructured-inference==0.8.1->unstructured[all-docs]) (0.12.1)\n",
      "Requirement already satisfied: fonttools>=4.22.0 in /anaconda/envs/azureml_py38/lib/python3.10/site-packages (from matplotlib->unstructured-inference==0.8.1->unstructured[all-docs]) (4.51.0)\n",
      "Requirement already satisfied: kiwisolver>=1.0.1 in /anaconda/envs/azureml_py38/lib/python3.10/site-packages (from matplotlib->unstructured-inference==0.8.1->unstructured[all-docs]) (1.4.5)\n",
      "Requirement already satisfied: safetensors in /anaconda/envs/azureml_py38/lib/python3.10/site-packages (from timm->unstructured-inference==0.8.1->unstructured[all-docs]) (0.4.4)\n",
      "Requirement already satisfied: nvidia-cuda-cupti-cu12==12.1.105 in /anaconda/envs/azureml_py38/lib/python3.10/site-packages (from torch->unstructured-inference==0.8.1->unstructured[all-docs]) (12.1.105)\n",
      "Requirement already satisfied: filelock in /anaconda/envs/azureml_py38/lib/python3.10/site-packages (from torch->unstructured-inference==0.8.1->unstructured[all-docs]) (3.15.4)\n",
      "Requirement already satisfied: nvidia-cuda-runtime-cu12==12.1.105 in /anaconda/envs/azureml_py38/lib/python3.10/site-packages (from torch->unstructured-inference==0.8.1->unstructured[all-docs]) (12.1.105)\n",
      "Requirement already satisfied: nvidia-cufft-cu12==11.0.2.54 in /anaconda/envs/azureml_py38/lib/python3.10/site-packages (from torch->unstructured-inference==0.8.1->unstructured[all-docs]) (11.0.2.54)\n",
      "Requirement already satisfied: nvidia-curand-cu12==10.3.2.106 in /anaconda/envs/azureml_py38/lib/python3.10/site-packages (from torch->unstructured-inference==0.8.1->unstructured[all-docs]) (10.3.2.106)\n",
      "Requirement already satisfied: nvidia-nvtx-cu12==12.1.105 in /anaconda/envs/azureml_py38/lib/python3.10/site-packages (from torch->unstructured-inference==0.8.1->unstructured[all-docs]) (12.1.105)\n",
      "Requirement already satisfied: nvidia-nccl-cu12==2.20.5 in /anaconda/envs/azureml_py38/lib/python3.10/site-packages (from torch->unstructured-inference==0.8.1->unstructured[all-docs]) (2.20.5)\n",
      "Requirement already satisfied: nvidia-cublas-cu12==12.1.3.1 in /anaconda/envs/azureml_py38/lib/python3.10/site-packages (from torch->unstructured-inference==0.8.1->unstructured[all-docs]) (12.1.3.1)\n",
      "Requirement already satisfied: nvidia-cudnn-cu12==9.1.0.70 in /anaconda/envs/azureml_py38/lib/python3.10/site-packages (from torch->unstructured-inference==0.8.1->unstructured[all-docs]) (9.1.0.70)\n",
      "Requirement already satisfied: nvidia-cusparse-cu12==12.1.0.106 in /anaconda/envs/azureml_py38/lib/python3.10/site-packages (from torch->unstructured-inference==0.8.1->unstructured[all-docs]) (12.1.0.106)\n",
      "Requirement already satisfied: jinja2 in /anaconda/envs/azureml_py38/lib/python3.10/site-packages (from torch->unstructured-inference==0.8.1->unstructured[all-docs]) (3.1.4)\n",
      "Requirement already satisfied: nvidia-cuda-nvrtc-cu12==12.1.105 in /anaconda/envs/azureml_py38/lib/python3.10/site-packages (from torch->unstructured-inference==0.8.1->unstructured[all-docs]) (12.1.105)\n",
      "Requirement already satisfied: fsspec in /anaconda/envs/azureml_py38/lib/python3.10/site-packages (from torch->unstructured-inference==0.8.1->unstructured[all-docs]) (2023.10.0)\n",
      "Requirement already satisfied: triton==3.0.0 in /anaconda/envs/azureml_py38/lib/python3.10/site-packages (from torch->unstructured-inference==0.8.1->unstructured[all-docs]) (3.0.0)\n",
      "Requirement already satisfied: nvidia-cusolver-cu12==11.4.5.107 in /anaconda/envs/azureml_py38/lib/python3.10/site-packages (from torch->unstructured-inference==0.8.1->unstructured[all-docs]) (11.4.5.107)\n",
      "Requirement already satisfied: nvidia-nvjitlink-cu12 in /anaconda/envs/azureml_py38/lib/python3.10/site-packages (from nvidia-cusolver-cu12==11.4.5.107->torch->unstructured-inference==0.8.1->unstructured[all-docs]) (12.6.68)\n",
      "Requirement already satisfied: tokenizers<0.19,>=0.14 in /anaconda/envs/azureml_py38/lib/python3.10/site-packages (from transformers>=4.25.1->unstructured-inference==0.8.1->unstructured[all-docs]) (0.15.2)\n",
      "Requirement already satisfied: iopath in /anaconda/envs/azureml_py38/lib/python3.10/site-packages (from layoutparser->unstructured-inference==0.8.1->unstructured[all-docs]) (0.1.10)\n",
      "Requirement already satisfied: scipy in /anaconda/envs/azureml_py38/lib/python3.10/site-packages (from layoutparser->unstructured-inference==0.8.1->unstructured[all-docs]) (1.10.1)\n",
      "Requirement already satisfied: pdfplumber in /anaconda/envs/azureml_py38/lib/python3.10/site-packages (from layoutparser->unstructured-inference==0.8.1->unstructured[all-docs]) (0.11.4)\n",
      "Requirement already satisfied: pycparser in /anaconda/envs/azureml_py38/lib/python3.10/site-packages (from cffi>=1.12->cryptography>=36.0.0->pdfminer.six->unstructured[all-docs]) (2.22)\n",
      "Requirement already satisfied: pyasn1<0.7.0,>=0.4.6 in /anaconda/envs/azureml_py38/lib/python3.10/site-packages (from pyasn1-modules>=0.2.1->google-auth!=2.24.0,!=2.25.0,<3.0.0dev,>=2.14.1->google-cloud-vision->unstructured[all-docs]) (0.6.0)\n",
      "Requirement already satisfied: exceptiongroup>=1.0.2 in /anaconda/envs/azureml_py38/lib/python3.10/site-packages (from anyio->httpx>=0.27.0->unstructured-client->unstructured[all-docs]) (1.2.2)\n",
      "Requirement already satisfied: humanfriendly>=9.1 in /anaconda/envs/azureml_py38/lib/python3.10/site-packages (from coloredlogs->onnxruntime>=1.17.0->unstructured-inference==0.8.1->unstructured[all-docs]) (10.0)\n",
      "Requirement already satisfied: portalocker in /anaconda/envs/azureml_py38/lib/python3.10/site-packages (from iopath->layoutparser->unstructured-inference==0.8.1->unstructured[all-docs]) (2.10.1)\n",
      "Requirement already satisfied: MarkupSafe>=2.0 in /anaconda/envs/azureml_py38/lib/python3.10/site-packages (from jinja2->torch->unstructured-inference==0.8.1->unstructured[all-docs]) (2.1.5)\n",
      "Requirement already satisfied: pypdfium2>=4.18.0 in /anaconda/envs/azureml_py38/lib/python3.10/site-packages (from pdfplumber->layoutparser->unstructured-inference==0.8.1->unstructured[all-docs]) (4.30.1)\n",
      "Requirement already satisfied: mpmath<1.4,>=1.1.0 in /anaconda/envs/azureml_py38/lib/python3.10/site-packages (from sympy->onnxruntime>=1.17.0->unstructured-inference==0.8.1->unstructured[all-docs]) (1.3.0)\n"
     ]
    }
   ],
   "source": [
    "! pip install unstructured[all-docs]"
   ]
  },
  {
   "cell_type": "code",
   "execution_count": null,
   "metadata": {},
   "outputs": [
    {
     "name": "stderr",
     "output_type": "stream",
     "text": [
      "/anaconda/envs/llm/lib/python3.10/site-packages/tqdm/auto.py:21: TqdmWarning: IProgress not found. Please update jupyter and ipywidgets. See https://ipywidgets.readthedocs.io/en/stable/user_install.html\n",
      "  from .autonotebook import tqdm as notebook_tqdm\n"
     ]
    }
   ],
   "source": [
    "import os\n",
    "import uuid\n",
    "import base64\n",
    "from IPython import display\n",
    "from unstructured.partition.pdf import partition_pdf\n",
    "from langchain.chat_models import ChatOpenAI\n",
    "from langchain.embeddings import OpenAIEmbeddings\n",
    "from langchain.chains import LLMChain\n",
    "from langchain.prompts import PromptTemplate\n",
    "from langchain.schema.messages import HumanMessage, SystemMessage\n",
    "from langchain.schema.document import Document\n",
    "# from langchain.vectorstores import FAISS\n",
    "from langchain.retrievers.multi_vector import MultiVectorRetriever"
   ]
  },
  {
   "cell_type": "code",
   "execution_count": 10,
   "metadata": {},
   "outputs": [
    {
     "name": "stdout",
     "output_type": "stream",
     "text": [
      "/mnt/batch/tasks/shared/LS_root/mounts/clusters/v-sukruthav1/code/POC\n"
     ]
    }
   ],
   "source": [
    "os.chdir(\"/home/azureuser/cloudfiles/code/POC\")\n",
    "print(os.getcwd())"
   ]
  },
  {
   "cell_type": "code",
   "execution_count": 13,
   "metadata": {},
   "outputs": [
    {
     "name": "stderr",
     "output_type": "stream",
     "text": [
      "The cache for model files in Transformers v4.22.0 has been updated. Migrating your old cache. This is a one-time only operation. You can interrupt this and resume the migration later on by calling `transformers.utils.move_cache()`.\n",
      "0it [00:00, ?it/s]\n"
     ]
    }
   ],
   "source": [
    "# Get elements\n",
    "raw_pdf_elements = partition_pdf(\n",
    "    filename=\"/home/azureuser/cloudfiles/code/POC/data/docwithimg.pdf\",\n",
    "    extract_images_in_pdf=True,\n",
    "    infer_table_structure=True,\n",
    "    chunking_strategy=\"by_title\",\n",
    "    max_characters=2000,\n",
    "    new_after_n_chars=1800,\n",
    "    combine_text_under_n_chars=500,\n",
    "    extract_image_block_output_dir=\"./images\",\n",
    ")"
   ]
  },
  {
   "cell_type": "code",
   "execution_count": 7,
   "metadata": {},
   "outputs": [
    {
     "data": {
      "text/plain": [
       "'/mnt/batch/tasks/shared/LS_root/mounts/clusters/v-sukruthav1/code/POC/notebook'"
      ]
     },
     "execution_count": 7,
     "metadata": {},
     "output_type": "execute_result"
    }
   ],
   "source": [
    "pwd"
   ]
  },
  {
   "cell_type": "code",
   "execution_count": 16,
   "metadata": {},
   "outputs": [],
   "source": [
    "raw_pdf_elements = partition_pdf(\n",
    "        filename=\"./data/docwithimg.pdf\",\n",
    "        extract_images_in_pdf=True,\n",
    "        infer_table_structure=True,\n",
    "        chunking_strategy=\"by_title\",\n",
    "        max_characters=4000,\n",
    "        new_after_n_chars=3800,\n",
    "        combine_text_under_n_chars=2000,\n",
    "        image_output_dir_path=\"./images\",\n",
    "    )"
   ]
  },
  {
   "cell_type": "code",
   "execution_count": null,
   "metadata": {},
   "outputs": [],
   "source": []
  }
 ],
 "metadata": {
  "kernelspec": {
   "display_name": "llm",
   "language": "python",
   "name": "python3"
  },
  "language_info": {
   "codemirror_mode": {
    "name": "ipython",
    "version": 3
   },
   "file_extension": ".py",
   "mimetype": "text/x-python",
   "name": "python",
   "nbconvert_exporter": "python",
   "pygments_lexer": "ipython3",
   "version": "3.10.4"
  }
 },
 "nbformat": 4,
 "nbformat_minor": 2
}
