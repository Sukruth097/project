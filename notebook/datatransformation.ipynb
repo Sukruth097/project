{
 "cells": [
  {
   "cell_type": "code",
   "execution_count": 1,
   "metadata": {},
   "outputs": [
    {
     "name": "stdout",
     "output_type": "stream",
     "text": [
      "/mnt/batch/tasks/shared/LS_root/mounts/clusters/v-sukruthav1/code/project\n"
     ]
    }
   ],
   "source": [
    "import os\n",
    "os.chdir(\"/home/azureuser/cloudfiles/code/project\")\n",
    "print(os.getcwd())"
   ]
  },
  {
   "cell_type": "code",
   "execution_count": null,
   "metadata": {},
   "outputs": [],
   "source": []
  },
  {
   "cell_type": "code",
   "execution_count": 3,
   "metadata": {},
   "outputs": [],
   "source": [
    "from src.utils.data_helper import file_type_acceptance_list"
   ]
  },
  {
   "cell_type": "code",
   "execution_count": 4,
   "metadata": {},
   "outputs": [],
   "source": [
    "file_type = file_type_acceptance_list()"
   ]
  },
  {
   "cell_type": "code",
   "execution_count": 5,
   "metadata": {},
   "outputs": [
    {
     "data": {
      "text/plain": [
       "['csv', 'docx', 'pdf', 'pptx', 'txt', 'xlsx']"
      ]
     },
     "execution_count": 5,
     "metadata": {},
     "output_type": "execute_result"
    }
   ],
   "source": [
    "file_type"
   ]
  },
  {
   "cell_type": "code",
   "execution_count": 6,
   "metadata": {},
   "outputs": [
    {
     "data": {
      "text/plain": [
       "'/mnt/batch/tasks/shared/LS_root/mounts/clusters/v-sukruthav1/code/project/artifacts/12_31_2024_15_42_28/DataIngestion/rawdata/cracked-output'"
      ]
     },
     "execution_count": 6,
     "metadata": {},
     "output_type": "execute_result"
    }
   ],
   "source": [
    "path=os.path.join(os.getcwd(),\"artifacts/12_31_2024_15_42_28/DataIngestion/rawdata/cracked-output\")\n",
    "path"
   ]
  },
  {
   "cell_type": "code",
   "execution_count": 7,
   "metadata": {},
   "outputs": [
    {
     "name": "stdout",
     "output_type": "stream",
     "text": [
      "remove file path---->/mnt/batch/tasks/shared/LS_root/mounts/clusters/v-sukruthav1/code/project/artifacts/12_31_2024_15_42_28/DataIngestion/rawdata/cracked-output/documentintelligence.ai.azure.com.har\n",
      "remove file path---->/mnt/batch/tasks/shared/LS_root/mounts/clusters/v-sukruthav1/code/project/artifacts/12_31_2024_15_42_28/DataIngestion/rawdata/cracked-output/download.jpg\n"
     ]
    },
    {
     "data": {
      "text/plain": [
       "['aHR0cHM6Ly9sbG04NjA5Njc5MDU0LmJsb2IuY29yZS53aW5kb3dzLm5ldC9maWxldXBsb2FkLXRlc3RpbmRleC9sZWJvMTExLnBkZg2.txt',\n",
       " 'jemh1a1.pdf',\n",
       " 'OnlineSvcsConsolidatedSLA(WW)(English)(December2024)(CR).docx']"
      ]
     },
     "execution_count": 7,
     "metadata": {},
     "output_type": "execute_result"
    }
   ],
   "source": [
    "for file in os.listdir(path):\n",
    "    if file.split(\".\")[-1] in file_type:\n",
    "       pass\n",
    "    #    file_type_count[f\"{file_type}\"] += 1\n",
    "    else:\n",
    "        print(f\"remove file path---->{os.path.join(path, file)}\")\n",
    "        file_path=os.path.join(path, file)\n",
    "        os.remove(file_path)\n",
    "os.listdir(path)"
   ]
  },
  {
   "cell_type": "code",
   "execution_count": 8,
   "metadata": {},
   "outputs": [
    {
     "data": {
      "text/plain": [
       "{'csv': 0, 'docx': 0, 'pdf': 0, 'pptx': 0, 'txt': 0, 'xlsx': 0}"
      ]
     },
     "execution_count": 8,
     "metadata": {},
     "output_type": "execute_result"
    }
   ],
   "source": [
    "ACCEPTANCE_FILE_TYPES = file_type_acceptance_list()\n",
    "file_type_count = {file_type: 0 for file_type in ACCEPTANCE_FILE_TYPES}\n",
    "file_type_count"
   ]
  },
  {
   "cell_type": "code",
   "execution_count": 9,
   "metadata": {},
   "outputs": [
    {
     "data": {
      "text/plain": [
       "['csv', 'docx', 'pdf', 'pptx', 'txt', 'xlsx']"
      ]
     },
     "execution_count": 9,
     "metadata": {},
     "output_type": "execute_result"
    }
   ],
   "source": [
    "ACCEPTANCE_FILE_TYPES"
   ]
  },
  {
   "cell_type": "code",
   "execution_count": null,
   "metadata": {},
   "outputs": [],
   "source": []
  }
 ],
 "metadata": {
  "kernelspec": {
   "display_name": "llms",
   "language": "python",
   "name": "python3"
  },
  "language_info": {
   "codemirror_mode": {
    "name": "ipython",
    "version": 3
   },
   "file_extension": ".py",
   "mimetype": "text/x-python",
   "name": "python",
   "nbconvert_exporter": "python",
   "pygments_lexer": "ipython3",
   "version": "3.10.14"
  }
 },
 "nbformat": 4,
 "nbformat_minor": 2
}
